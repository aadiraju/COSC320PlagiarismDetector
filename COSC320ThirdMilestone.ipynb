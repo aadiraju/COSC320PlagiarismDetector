{
  "nbformat": 4,
  "nbformat_minor": 0,
  "metadata": {
    "colab": {
      "name": "COSC320ThirdMilestone.ipynb",
      "provenance": [],
      "collapsed_sections": [],
      "include_colab_link": true
    },
    "kernelspec": {
      "name": "python3",
      "display_name": "Python 3"
    },
    "language_info": {
      "name": "python"
    }
  },
  "cells": [
    {
      "cell_type": "markdown",
      "metadata": {
        "id": "view-in-github",
        "colab_type": "text"
      },
      "source": [
        "<a href=\"https://colab.research.google.com/github/aadiraju/COSC320PlagiarismDetector/blob/main/COSC320ThirdMilestone.ipynb\" target=\"_parent\"><img src=\"https://colab.research.google.com/assets/colab-badge.svg\" alt=\"Open In Colab\"/></a>"
      ]
    },
    {
      "cell_type": "code",
      "metadata": {
        "id": "rB74EmGY_9ow",
        "colab": {
          "base_uri": "https://localhost:8080/"
        },
        "outputId": "c1c14d3f-1efd-406a-c4f5-baade9fa0b90"
      },
      "source": [
        "# Following program is the python implementation of \n",
        "# Rabin Karp Algorithm given in CLRS book \n",
        "  \n",
        "# pat  -> pattern \n",
        "# txt  -> text \n",
        "# q    -> A prime number \n",
        "  \n",
        "def rabinKarpSearch(pat, txt, q): \n",
        "    M = len(pat) \n",
        "    N = len(txt) \n",
        "    i = 0\n",
        "    j = 0\n",
        "    p = 0    # hash value for pattern \n",
        "    t = 0    # hash value for txt \n",
        "    h = 1\n",
        "    # d is the number of characters in the input alphabet \n",
        "    d = 256\n",
        "  \n",
        "    # The value of h would be \"pow(d, M-1)% q\" \n",
        "    for i in range(M-1): \n",
        "        h = (h * d)% q \n",
        "  \n",
        "    # Calculate the hash value of pattern and first window \n",
        "    # of text \n",
        "    for i in range(M): \n",
        "        p = (d * p + ord(pat[i]))% q \n",
        "        t = (d * t + ord(txt[i]))% q \n",
        "  \n",
        "    # Slide the pattern over text one by one \n",
        "    for i in range(N-M + 1): \n",
        "        # Check the hash values of current window of text and \n",
        "        # pattern if the hash values match then only check \n",
        "        # for characters on by one \n",
        "        if p == t: \n",
        "            # Check for characters one by one \n",
        "            for j in range(M): \n",
        "                if txt[i + j] != pat[j]: \n",
        "                    break\n",
        "  \n",
        "            j+= 1\n",
        "            # if p == t and pat[0...M-1] = txt[i, i + 1, ...i + M-1] \n",
        "            if j == M: \n",
        "                return M #get length of pattern that has a match\n",
        "  \n",
        "        # Calculate hash value for next window of text: Remove \n",
        "        # leading digit, add trailing digit \n",
        "        if i < N-M: \n",
        "            t = (d*(t-ord(txt[i])*h) + ord(txt[i + M]))% q \n",
        "  \n",
        "            # We might get negative values of t, converting it to \n",
        "            # positive \n",
        "            if t < 0: \n",
        "                t = t + q\n",
        "    return 0\n",
        "\n",
        "def rabinKarpFileMatch(file, cFile,q):\n",
        "  corpusFileSize = len(cFile)\n",
        "  totalFoundChar = 0\n",
        "  for line in file:\n",
        "    totalFoundChar += rabinKarpSearch(line,cFile,q)\n",
        "  return float(totalFoundChar/corpusFileSize)*100 # value from 0-100 that represents the percentage of matches found between the two documents \n",
        "\n",
        "# Driver program to test the above function \n",
        "txt = \"COSC320 is a very fun class and I would take it again if I could\"\n",
        "pat = [\"very fun class \",\"aksdjfhaskjl \",\"take it again \"]\n",
        "q = 101 # A prime number \n",
        "print(\"{:.2f}% similarity\".format(rabinKarpFileMatch(pat, txt, q))) "
      ],
      "execution_count": null,
      "outputs": [
        {
          "output_type": "stream",
          "text": [
            "45.31% similarity\n"
          ],
          "name": "stdout"
        }
      ]
    },
    {
      "cell_type": "code",
      "metadata": {
        "id": "ZusYoWoUBzNQ",
        "colab": {
          "base_uri": "https://localhost:8080/"
        },
        "outputId": "ac9607d4-5e9f-4449-bbb3-ed92ce07efb3"
      },
      "source": [
        "def modifiedKMP(file,cfile):\n",
        "\n",
        "    #Big one is just a big string where newlines are replaced by spaces\n",
        "    cf = open(cfile, \"r\")\n",
        "    content = cf.read()\n",
        "    content_list = content.replace('\\n',' ')\n",
        "    cf.close()  \n",
        "\n",
        "    # This is just the text file, split up by line, in a list.\n",
        "    with open(file,'r') as plagFile:\n",
        "      data2 = plagFile.readLines().replace('\\n',' ')\n",
        "    \n",
        "    \n",
        "    count=0\n",
        "    for i in data2:\n",
        "      if KMPSearch(i,content_list):\n",
        "        count=count+1\n",
        "\n",
        "    len(``)\n",
        "    return float(count/len)\n",
        "\n",
        "    # for each string in data, run a for loop to check against each string in the data2 string, so that can be done, and then to return a \n",
        "\n",
        "\n",
        "def KMPSearch(pat, txt): \n",
        "    M = len(pat) \n",
        "    N = len(txt) \n",
        "    lps = [0]*M \n",
        "    j = 0\n",
        "    computeLPSArray(pat, M, lps) \n",
        "    i = 0 \n",
        "    while i < N: \n",
        "        if pat[j] == txt[i]: \n",
        "            i += 1\n",
        "            j += 1\n",
        "        if j == M: \n",
        "            return true\n",
        "            j = lps[j-1] \n",
        "\n",
        "        elif i < N and pat[j] != txt[i]: \n",
        "            if j != 0: \n",
        "                j = lps[j-1] \n",
        "            else: \n",
        "                i += 1\n",
        "  \n",
        "def computeLPSArray(pat, M, lps): \n",
        "    len = 0 # length of the previous longest prefix suffix \n",
        "  \n",
        "    lps[0] # lps[0] is always 0 \n",
        "    i = 1\n",
        "  \n",
        "    # the loop calculates lps[i] for i = 1 to M-1 \n",
        "    while i < M: \n",
        "        if pat[i]== pat[len]: \n",
        "            len += 1\n",
        "            lps[i] = len\n",
        "            i += 1\n",
        "        else: \n",
        "            # This is tricky. Consider the example. \n",
        "            # AAACAAAA and i = 7. The idea is similar  \n",
        "            # to search step. \n",
        "            if len != 0: \n",
        "                len = lps[len-1] \n",
        "  \n",
        "                # Also, note that we do not increment i here \n",
        "            else: \n",
        "                lps[i] = 0\n",
        "                i += 1\n",
        "  \n",
        "txt = \"ABABDABACDABABCABAB\"\n",
        "pat = \"ABAB\"\n",
        "KMPSearch(pat, txt) \n",
        "\n"
      ],
      "execution_count": null,
      "outputs": [
        {
          "output_type": "stream",
          "text": [
            "Found pattern at index 0\n",
            "Found pattern at index 10\n",
            "Found pattern at index 15\n"
          ],
          "name": "stdout"
        }
      ]
    }
  ]
}