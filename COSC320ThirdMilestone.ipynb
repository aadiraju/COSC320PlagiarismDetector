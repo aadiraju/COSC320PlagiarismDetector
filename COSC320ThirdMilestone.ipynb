{
  "nbformat": 4,
  "nbformat_minor": 0,
  "metadata": {
    "colab": {
      "name": "COSC320ThirdMilestone.ipynb",
      "provenance": [],
      "collapsed_sections": [],
      "include_colab_link": true
    },
    "kernelspec": {
      "name": "python3",
      "display_name": "Python 3"
    },
    "language_info": {
      "name": "python"
    }
  },
  "cells": [
    {
      "cell_type": "markdown",
      "metadata": {
        "id": "view-in-github",
        "colab_type": "text"
      },
      "source": [
        "<a href=\"https://colab.research.google.com/github/aadiraju/COSC320PlagiarismDetector/blob/main/COSC320ThirdMilestone.ipynb\" target=\"_parent\"><img src=\"https://colab.research.google.com/assets/colab-badge.svg\" alt=\"Open In Colab\"/></a>"
      ]
    },
    {
      "cell_type": "markdown",
      "metadata": {
        "id": "slUTMBmrWj41"
      },
      "source": [
        "# COSC320 Third Milestone"
      ]
    },
    {
      "cell_type": "markdown",
      "metadata": {
        "id": "9dPsAfRyVjEa"
      },
      "source": [
        "\n",
        "## Rabin-Karp Function \n",
        "The following cell defines a function that implements Rabin-Karp on the given pattern and text, and returns a plagiarism percentage from 0% - 100%"
      ]
    },
    {
      "cell_type": "code",
      "metadata": {
        "id": "rB74EmGY_9ow",
        "colab": {
          "base_uri": "https://localhost:8080/"
        },
        "outputId": "8b506988-ca0e-44da-a6b8-c9adeeada8f0"
      },
      "source": [
        "# Following program is the python implementation of \n",
        "# Rabin Karp Algorithm given in CLRS book \n",
        "  \n",
        "# pat  -> pattern \n",
        "# txt  -> text \n",
        "# q    -> A prime number \n",
        "  \n",
        "def rabinKarpSearch(pat, txt): \n",
        "    q = 101 # A prime number \n",
        "    M = len(pat) \n",
        "    N = len(txt) \n",
        "    i = 0\n",
        "    j = 0\n",
        "    p = 0    # hash value for pattern \n",
        "    t = 0    # hash value for txt \n",
        "    h = 1\n",
        "    # d is the number of characters in the input alphabet \n",
        "    d = 256\n",
        "  \n",
        "    # The value of h would be \"pow(d, M-1)% q\" \n",
        "    for i in range(M-1): \n",
        "        h = (h * d)% q \n",
        "  \n",
        "    # Calculate the hash value of pattern and first window \n",
        "    # of text \n",
        "    for i in range(M): \n",
        "        p = (d * p + ord(pat[i]))% q \n",
        "        t = (d * t + ord(txt[i]))% q \n",
        "  \n",
        "    # Slide the pattern over text one by one \n",
        "    for i in range(N-M + 1): \n",
        "        # Check the hash values of current window of text and \n",
        "        # pattern if the hash values match then only check \n",
        "        # for characters on by one \n",
        "        if p == t: \n",
        "            # Check for characters one by one \n",
        "            for j in range(M): \n",
        "                if txt[i + j] != pat[j]: \n",
        "                    break\n",
        "  \n",
        "            j+= 1\n",
        "            # if p == t and pat[0...M-1] = txt[i, i + 1, ...i + M-1] \n",
        "            if j == M: \n",
        "                return M #get length of pattern that has a match\n",
        "  \n",
        "        # Calculate hash value for next window of text: Remove \n",
        "        # leading digit, add trailing digit \n",
        "        if i < N-M: \n",
        "            t = (d*(t-ord(txt[i])*h) + ord(txt[i + M]))% q \n",
        "  \n",
        "            # We might get negative values of t, converting it to \n",
        "            # positive \n",
        "            if t < 0: \n",
        "                t = t + q\n",
        "    return 0\n",
        "\n",
        "def rabinKarpFileMatch(file, cFile):\n",
        "  corpusFileSize = len(cFile)\n",
        "  totalFoundChar = 0\n",
        "  for line in file:\n",
        "    totalFoundChar += rabinKarpSearch(line,cFile)\n",
        "  return float(totalFoundChar/corpusFileSize)*100 # value from 0-100 that represents the percentage of matches found between the two documents \n",
        "\n",
        "# Driver program to test the above function \n",
        "txt = \"COSC320 is a very fun class and I would take it again if I could\"\n",
        "pat = [\"very fun class \",\"aksdjfhaskjl \",\"take it again \"]\n",
        "\n",
        "print(\"{:.2f}% similarity\".format(rabinKarpFileMatch(pat, txt))) "
      ],
      "execution_count": null,
      "outputs": [
        {
          "output_type": "stream",
          "text": [
            "45.31% similarity\n"
          ],
          "name": "stdout"
        }
      ]
    },
    {
      "cell_type": "markdown",
      "metadata": {
        "id": "nOxpWdjgWWL2"
      },
      "source": [
        "## KMP Function \n",
        "The following cell defines a function that implements KMP on the given pattern and text, and returns a plagiarism percentage from 0% - 100%"
      ]
    },
    {
      "cell_type": "code",
      "metadata": {
        "id": "ZusYoWoUBzNQ",
        "colab": {
          "base_uri": "https://localhost:8080/"
        },
        "outputId": "f728c51f-fd19-4251-a4e9-28f42567be38"
      },
      "source": [
        "def kmpHelper(file,cFile):    \n",
        "    totalFoundChar = 0\n",
        "    for i in file:\n",
        "      totalFoundChar += KMPSearch(i,cFile)\n",
        "    \n",
        "    corpusFileSize = len(cFile)\n",
        "    return float(totalFoundChar/corpusFileSize)*100\n",
        "    \n",
        "    # for each string in data, run a for loop to check against each string in the data2 string, so that can be done, and then to return a \n",
        "\n",
        "\n",
        "def KMPSearch(pat, txt): \n",
        "    M = len(pat) \n",
        "    N = len(txt) \n",
        "    lps = [0]*M \n",
        "    j = 0\n",
        "    computeLPSArray(pat, M, lps) \n",
        "    i = 0 \n",
        "    while i < N: \n",
        "        if pat[j] == txt[i]: \n",
        "            i += 1\n",
        "            j += 1\n",
        "        if j == M: \n",
        "            return M\n",
        "            j = lps[j-1] \n",
        "\n",
        "        elif i < N and pat[j] != txt[i]: \n",
        "            if j != 0: \n",
        "                j = lps[j-1] \n",
        "            else: \n",
        "                i += 1\n",
        "    return 0\n",
        "  \n",
        "def computeLPSArray(pat, M, lps): \n",
        "    len = 0 # length of the previous longest prefix suffix \n",
        "  \n",
        "    lps[0] # lps[0] is always 0 \n",
        "    i = 1\n",
        "  \n",
        "    # the loop calculates lps[i] for i = 1 to M-1 \n",
        "    while i < M: \n",
        "        if pat[i]== pat[len]: \n",
        "            len += 1\n",
        "            lps[i] = len\n",
        "            i += 1\n",
        "        else: \n",
        "            # This is tricky. Consider the example. \n",
        "            # AAACAAAA and i = 7. The idea is similar  \n",
        "            # to search step. \n",
        "            if len != 0: \n",
        "                len = lps[len-1] \n",
        "  \n",
        "                # Also, note that we do not increment i here \n",
        "            else: \n",
        "                lps[i] = 0\n",
        "                i += 1\n",
        "  \n",
        "txt = \"ABABDABACDABABCABABABCABCBABCABCBACBACBACBACBABCBACBABD\"\n",
        "pat = [\"CAB\",\"BAB\"]\n",
        "print(\"{:.2f}% similarity\".format(kmpHelper(pat, txt))) \n",
        "\n"
      ],
      "execution_count": null,
      "outputs": [
        {
          "output_type": "stream",
          "text": [
            "10.91% similarity\n"
          ],
          "name": "stdout"
        }
      ]
    },
    {
      "cell_type": "markdown",
      "metadata": {
        "id": "kg5ZYoc4Wpyd"
      },
      "source": [
        "## LCSS Function \n",
        "The following cell defines a function that implements LCSS on the given pattern and text, and returns a plagiarism percentage from 0% - 100%"
      ]
    },
    {
      "cell_type": "code",
      "metadata": {
        "id": "PCh9q7E6UV9O",
        "colab": {
          "base_uri": "https://localhost:8080/"
        },
        "outputId": "ce50a688-e8f1-4d0b-d3d5-87f7e3e672c5"
      },
      "source": [
        "def lcs(file, cFile): \n",
        "    # find the length of the strings \n",
        "    m = len(file) \n",
        "    n = len(cFile) \n",
        "  \n",
        "    # declaring the array for storing the dp values \n",
        "    L = [[None]*(n + 1) for i in range(m + 1)] \n",
        "  \n",
        "    \"\"\"Following steps build L[m + 1][n + 1] in bottom up fashion \n",
        "    Note: L[i][j] contains length of LCS of file[0..i-1] \n",
        "    and cFile[0..j-1]\"\"\"\n",
        "    for i in range(m + 1): \n",
        "        for j in range(n + 1): \n",
        "            if i == 0 or j == 0 : \n",
        "                L[i][j] = 0\n",
        "            elif file[i-1] == cFile[j-1]: \n",
        "                L[i][j] = L[i-1][j-1]+1\n",
        "            else: \n",
        "                L[i][j] = max(L[i-1][j], L[i][j-1]) \n",
        "  \n",
        "    # L[m][n] contains the length of LCS of file[0..n-1] & cFile[0..m-1] \n",
        "    return L[m][n] \n",
        "# end of function lcs \n",
        "def lcsHelper(file,cFile):\n",
        "  totalFoundChar = 0\n",
        "  for i in file:\n",
        "    totalFoundChar += lcs(i,cFile)  \n",
        "  corpusFileSize = len(cFile)\n",
        "  return float(totalFoundChar/corpusFileSize)*100\n",
        "  \n",
        "# Driver program to test the above function \n",
        "file = [\"AGG\"]\n",
        "cFile = \"GXTXAYB\"\n",
        "print(\"Similarity Percentage is {:.2f}%\".format(lcsHelper(file, cFile))) "
      ],
      "execution_count": null,
      "outputs": [
        {
          "output_type": "stream",
          "text": [
            "Similarity Percentage is 14.29%\n"
          ],
          "name": "stdout"
        }
      ]
    },
    {
      "cell_type": "markdown",
      "metadata": {
        "id": "z_bJe5gjXY6f"
      },
      "source": [
        "## Main Driver Function\n",
        "The following function will take the actual input file and compare it against each file in the corpus and return a plagiarism percentage per file."
      ]
    },
    {
      "cell_type": "code",
      "metadata": {
        "colab": {
          "base_uri": "https://localhost:8080/",
          "height": 232
        },
        "id": "uTma7TZeeWXl",
        "outputId": "a54dab66-9d27-4c63-8162-5829c73037f9"
      },
      "source": [
        "import os\n",
        "directory = \"g17_corpusfinal/\"\n",
        "    \n",
        "for file in os.listdir(directory):\n",
        "     filename = os.fsdecode(file)\n",
        "     if filename.endswith(\".txt\") and filename != 'plagarism_test_file.txt': \n",
        "         print(filename)"
      ],
      "execution_count": 5,
      "outputs": [
        {
          "output_type": "error",
          "ename": "FileNotFoundError",
          "evalue": "ignored",
          "traceback": [
            "\u001b[0;31m---------------------------------------------------------------------------\u001b[0m",
            "\u001b[0;31mFileNotFoundError\u001b[0m                         Traceback (most recent call last)",
            "\u001b[0;32m<ipython-input-5-3be3166d8e41>\u001b[0m in \u001b[0;36m<module>\u001b[0;34m()\u001b[0m\n\u001b[1;32m      2\u001b[0m \u001b[0mdirectory\u001b[0m \u001b[0;34m=\u001b[0m \u001b[0;34m\"g17_corpusfinal/\"\u001b[0m\u001b[0;34m\u001b[0m\u001b[0;34m\u001b[0m\u001b[0m\n\u001b[1;32m      3\u001b[0m \u001b[0;34m\u001b[0m\u001b[0m\n\u001b[0;32m----> 4\u001b[0;31m \u001b[0;32mfor\u001b[0m \u001b[0mfile\u001b[0m \u001b[0;32min\u001b[0m \u001b[0mos\u001b[0m\u001b[0;34m.\u001b[0m\u001b[0mlistdir\u001b[0m\u001b[0;34m(\u001b[0m\u001b[0mdirectory\u001b[0m\u001b[0;34m)\u001b[0m\u001b[0;34m:\u001b[0m\u001b[0;34m\u001b[0m\u001b[0;34m\u001b[0m\u001b[0m\n\u001b[0m\u001b[1;32m      5\u001b[0m      \u001b[0mfilename\u001b[0m \u001b[0;34m=\u001b[0m \u001b[0mos\u001b[0m\u001b[0;34m.\u001b[0m\u001b[0mfsdecode\u001b[0m\u001b[0;34m(\u001b[0m\u001b[0mfile\u001b[0m\u001b[0;34m)\u001b[0m\u001b[0;34m\u001b[0m\u001b[0;34m\u001b[0m\u001b[0m\n\u001b[1;32m      6\u001b[0m      \u001b[0;32mif\u001b[0m \u001b[0mfilename\u001b[0m\u001b[0;34m.\u001b[0m\u001b[0mendswith\u001b[0m\u001b[0;34m(\u001b[0m\u001b[0;34m\".txt\"\u001b[0m\u001b[0;34m)\u001b[0m \u001b[0;32mand\u001b[0m \u001b[0mfilename\u001b[0m \u001b[0;34m!=\u001b[0m \u001b[0;34m'plagarism_test_file.txt'\u001b[0m\u001b[0;34m:\u001b[0m\u001b[0;34m\u001b[0m\u001b[0;34m\u001b[0m\u001b[0m\n",
            "\u001b[0;31mFileNotFoundError\u001b[0m: [Errno 2] No such file or directory: 'g17_corpusfinal/'"
          ]
        }
      ]
    },
    {
      "cell_type": "code",
      "metadata": {
        "id": "ac1eyq9zXX5f"
      },
      "source": [
        "    #Take in each corpus file as a big string where newlines are replaced by spaces\n",
        "    cf = open(cfile, \"r\")\n",
        "    content = cf.read()\n",
        "    content_list = content.replace('\\n',' ')\n",
        "    cf.close()  \n",
        "    \n",
        "    # For the plagirarism file, split up by line, in a list.\n",
        "    with open(file,'r') as plagFile:\n",
        "      data2 = plagFile.readLines().replace('\\n',' ')"
      ],
      "execution_count": null,
      "outputs": []
    }
  ]
}