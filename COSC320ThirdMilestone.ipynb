{
<<<<<<< HEAD
 "cells": [
  {
   "cell_type": "markdown",
   "metadata": {
    "colab_type": "text",
    "id": "view-in-github"
   },
   "source": [
    "<a href=\"https://colab.research.google.com/github/aadiraju/COSC320PlagiarismDetector/blob/main/COSC320ThirdMilestone.ipynb\" target=\"_parent\"><img src=\"https://colab.research.google.com/assets/colab-badge.svg\" alt=\"Open In Colab\"/></a>"
   ]
  },
  {
   "cell_type": "markdown",
   "metadata": {
    "id": "slUTMBmrWj41"
   },
   "source": [
    "# COSC320 Third Milestone"
   ]
  },
  {
   "cell_type": "markdown",
   "metadata": {
    "id": "9dPsAfRyVjEa"
   },
   "source": [
    "\n",
    "## Rabin-Karp Function \n",
    "The following cell defines a function that implements Rabin-Karp on the given pattern and text, and returns a plagiarism percentage from 0% - 100%"
   ]
  },
  {
   "cell_type": "code",
   "execution_count": 94,
   "metadata": {
=======
  "nbformat": 4,
  "nbformat_minor": 0,
  "metadata": {
>>>>>>> f6342bf01be1edd9e1cca667df0ac86ba34c4740
    "colab": {
      "name": "COSC320ThirdMilestone.ipynb",
      "provenance": [],
      "collapsed_sections": [],
      "include_colab_link": true
    },
<<<<<<< HEAD
    "id": "rB74EmGY_9ow",
    "outputId": "8b506988-ca0e-44da-a6b8-c9adeeada8f0"
   },
   "outputs": [],
   "source": [
    "# Following program is the python implementation of \n",
    "# Rabin Karp Algorithm given in CLRS book \n",
    "  \n",
    "# pat  -> pattern \n",
    "# txt  -> text \n",
    "# q    -> A prime number \n",
    "  \n",
    "def rabinKarpSearch(pat, txt): \n",
    "    q = 101 # A prime number \n",
    "    M = len(pat) \n",
    "    N = len(txt) \n",
    "    i = 0\n",
    "    j = 0\n",
    "    p = 0    # hash value for pattern \n",
    "    t = 0    # hash value for txt \n",
    "    h = 1\n",
    "    # d is the number of characters in the input alphabet \n",
    "    d = 256\n",
    "  \n",
    "    # The value of h would be \"pow(d, M-1)% q\" \n",
    "    for i in range(M-1): \n",
    "        h = (h * d)% q \n",
    "  \n",
    "    # Calculate the hash value of pattern and first window \n",
    "    # of text \n",
    "    for i in range(M): \n",
    "        p = (d * p + ord(pat[i]))% q \n",
    "        t = (d * t + ord(txt[i]))% q \n",
    "  \n",
    "    # Slide the pattern over text one by one \n",
    "    for i in range(N-M + 1): \n",
    "        # Check the hash values of current window of text and \n",
    "        # pattern if the hash values match then only check \n",
    "        # for characters on by one \n",
    "        if p == t: \n",
    "            # Check for characters one by one \n",
    "            for j in range(M): \n",
    "                if txt[i + j] != pat[j]: \n",
    "                    break\n",
    "  \n",
    "            j+= 1\n",
    "            # if p == t and pat[0...M-1] = txt[i, i + 1, ...i + M-1] \n",
    "            if j == M: \n",
    "                return M #get length of pattern that has a match\n",
    "  \n",
    "        # Calculate hash value for next window of text: Remove \n",
    "        # leading digit, add trailing digit \n",
    "        if i < N-M: \n",
    "            t = (d*(t-ord(txt[i])*h) + ord(txt[i + M]))% q \n",
    "  \n",
    "            # We might get negative values of t, converting it to \n",
    "            # positive \n",
    "            if t < 0: \n",
    "                t = t + q\n",
    "    return 0\n",
    "\n",
    "def rabinKarpFileMatch(file, cFile):\n",
    "  corpusFileSize = len(cFile)\n",
    "  totalFoundChar = 0\n",
    "  for line in file:\n",
    "    totalFoundChar += rabinKarpSearch(line,cFile)\n",
    "  return float(totalFoundChar/corpusFileSize) # value from 0-1 that represents the percentage of matches found between the two documents "
   ]
  },
  {
   "cell_type": "markdown",
   "metadata": {
    "id": "nOxpWdjgWWL2"
   },
   "source": [
    "## KMP Function \n",
    "The following cell defines a function that implements KMP on the given pattern and text, and returns a plagiarism percentage from 0% - 100%"
   ]
  },
  {
   "cell_type": "code",
   "execution_count": 95,
   "metadata": {
    "colab": {
     "base_uri": "https://localhost:8080/"
    },
    "id": "ZusYoWoUBzNQ",
    "outputId": "f728c51f-fd19-4251-a4e9-28f42567be38"
   },
   "outputs": [],
   "source": [
    "def kmpHelper(file,cFile):    \n",
    "    totalFoundChar = 0\n",
    "    for i in file:\n",
    "      totalFoundChar += KMPSearch(i,cFile)\n",
    "    \n",
    "    corpusFileSize = len(cFile)\n",
    "    return float(totalFoundChar/corpusFileSize)\n",
    "    \n",
    "    # for each string in data, run a for loop to check against each string in the data2 string, so that can be done, and then to return a \n",
    "\n",
    "\n",
    "def KMPSearch(pat, txt): \n",
    "    M = len(pat) \n",
    "    N = len(txt) \n",
    "    lps = [0]*M \n",
    "    j = 0\n",
    "    computeLPSArray(pat, M, lps) \n",
    "    i = 0 \n",
    "    while i < N: \n",
    "        if pat[j] == txt[i]: \n",
    "            i += 1\n",
    "            j += 1\n",
    "        if j == M: \n",
    "            return M\n",
    "            j = lps[j-1] \n",
    "\n",
    "        elif i < N and pat[j] != txt[i]: \n",
    "            if j != 0: \n",
    "                j = lps[j-1] \n",
    "            else: \n",
    "                i += 1\n",
    "    return 0\n",
    "  \n",
    "def computeLPSArray(pat, M, lps): \n",
    "    len = 0 # length of the previous longest prefix suffix \n",
    "  \n",
    "    lps[0] # lps[0] is always 0 \n",
    "    i = 1\n",
    "  \n",
    "    # the loop calculates lps[i] for i = 1 to M-1 \n",
    "    while i < M: \n",
    "        if pat[i]== pat[len]: \n",
    "            len += 1\n",
    "            lps[i] = len\n",
    "            i += 1\n",
    "        else: \n",
    "            # This is tricky. Consider the example. \n",
    "            # AAACAAAA and i = 7. The idea is similar  \n",
    "            # to search step. \n",
    "            if len != 0: \n",
    "                len = lps[len-1] \n",
    "  \n",
    "                # Also, note that we do not increment i here \n",
    "            else: \n",
    "                lps[i] = 0\n",
    "                i += 1"
   ]
  },
  {
   "cell_type": "markdown",
   "metadata": {
    "id": "kg5ZYoc4Wpyd"
   },
   "source": [
    "## LCSS Function \n",
    "The following cell defines a function that implements LCSS on the given pattern and text, and returns a plagiarism percentage from 0% - 100%"
   ]
  },
  {
   "cell_type": "code",
   "execution_count": 96,
   "metadata": {
    "colab": {
     "base_uri": "https://localhost:8080/"
    },
    "id": "PCh9q7E6UV9O",
    "outputId": "ce50a688-e8f1-4d0b-d3d5-87f7e3e672c5"
   },
   "outputs": [],
   "source": [
    "def lcs(file, cFile): \n",
    "    # find the length of the strings \n",
    "    m = len(file) \n",
    "    n = len(cFile) \n",
    "  \n",
    "    # declaring the array for storing the dp values \n",
    "    L = [[None]*(n + 1) for i in range(m + 1)] \n",
    "  \n",
    "    \"\"\"Following steps build L[m + 1][n + 1] in bottom up fashion \n",
    "    Note: L[i][j] contains length of LCS of file[0..i-1] \n",
    "    and cFile[0..j-1]\"\"\"\n",
    "    for i in range(m + 1): \n",
    "        for j in range(n + 1): \n",
    "            if i == 0 or j == 0 : \n",
    "                L[i][j] = 0\n",
    "            elif file[i-1] == cFile[j-1]: \n",
    "                L[i][j] = L[i-1][j-1]+1\n",
    "            else: \n",
    "                L[i][j] = max(L[i-1][j], L[i][j-1]) \n",
    "  \n",
    "    # L[m][n] contains the length of LCS of file[0..n-1] & cFile[0..m-1] \n",
    "    return L[m][n] \n",
    "# end of function lcs \n",
    "def lcsHelper(file,cFile):\n",
    "  totalFoundChar = 0\n",
    "  for i in file:\n",
    "    totalFoundChar += lcs(i,cFile)  \n",
    "  corpusFileSize = len(cFile)\n",
    "  return float(totalFoundChar/corpusFileSize)"
   ]
  },
  {
   "cell_type": "markdown",
   "metadata": {
    "id": "z_bJe5gjXY6f"
   },
   "source": [
    "## Main Driver Function\n",
    "The following function will take the actual input file and compare it against each file in the corpus and return a plagiarism percentage per file."
   ]
  },
  {
   "cell_type": "code",
   "execution_count": 97,
   "metadata": {
    "colab": {
     "base_uri": "https://localhost:8080/",
     "height": 232
    },
    "id": "uTma7TZeeWXl",
    "outputId": "a54dab66-9d27-4c63-8162-5829c73037f9"
   },
   "outputs": [],
   "source": [
    "import os"
   ]
  },
  {
   "cell_type": "code",
   "execution_count": 124,
   "metadata": {},
   "outputs": [],
   "source": [
    "def plagDetect(directory, dirSize, plagThresh, plagTestFile):\n",
    "    '''\n",
    "    Function that will return a set of filenames from which plagTestFile might have plagiarized from.\n",
    "\n",
    "    Parameters:\n",
    "    directory : str - path to directory where data files are located\n",
    "    dirSize : int - number of files other than plagTestFile that the algorithm will search from\n",
    "    plagThresh : float - a floating-point number between 0 - 1, that defines the percentage threshold to classify a document as potentially plagiarized\n",
    "    plagTestFile : str - name of the plagiarism test file with extension. No directory. Eg: \"plagTestFile.txt\"\n",
    "\n",
    "    Returns:\n",
    "    potentialPlagDocSet : list(str) - list of filenames in directory from which plagTestFile has plagiarized from.\n",
    "\n",
    "    '''\n",
    "    corpus = []\n",
    "    corpusNames = []\n",
    "    plagF = \"\"\n",
    "    counter = 0\n",
    "\n",
    "    for file in os.listdir(directory):\n",
    "         filename = os.fsdecode(file)\n",
    "         if filename.endswith(\".txt\") and filename != plagTestFile and counter < dirSize: \n",
    "             #Take in each corpus file as a big string where newlines are replaced by spaces\n",
    "             cf = open(os.path.join(directory,file), \"r\", encoding=\"utf-8\")\n",
    "             content = cf.read()\n",
    "             content_list = content.replace('\\n',' ')\n",
    "             corpus.append(content_list)\n",
    "             corpusNames.append(filename)\n",
    "             counter+=1\n",
    "             cf.close()  \n",
    "         if filename == plagTestFile:\n",
    "            # For the plagirarism file, split up by line, in a list.\n",
    "            with open(os.path.join(directory,file),'r', encoding=\"utf-8\") as plagFile:\n",
    "                plagF = [line.rstrip('\\n') for line in plagFile]\n",
    "    \n",
    "    potentialPlagDocSet = []\n",
    "\n",
    "    for i in range(len(corpus)):\n",
    "        cFile = corpus[i]\n",
    "        cFileName = corpusNames[i]\n",
    "        try:\n",
    "            simil = 0.5 * kmpHelper(plagF, cFile) + 0.2 * rabinKarpFileMatch(plagF, cFile) + 0.3 * lcsHelper(plagF, cFile)\n",
    "        except:\n",
    "            print('Error encountered while parsing file: {}'.format(os.path.join(directory, cFileName)))\n",
    "        if simil > plagThresh:\n",
    "            potentialPlagDocSet.append(cFileName)\n",
    "            \n",
    "    return potentialPlagDocSet"
   ]
  },
  {
   "cell_type": "code",
   "execution_count": 125,
   "metadata": {},
   "outputs": [],
   "source": [
    "import matplotlib.pyplot as plt\n",
    "import time\n",
    "from random import choice\n",
    "import os\n",
    "\n",
    "def tryItABunch(myFn, startN=1, endN=100, stepSize=1, numTrials=20):\n",
    "    nValues = []\n",
    "    tValues = []\n",
    "    directory = \"g17_corpusfinal/\"\n",
    "    plagThresh = 0.1\n",
    "    plagTestFile = \"plagarism_test_file.txt\"\n",
    "    for n in range(startN, endN, stepSize):\n",
    "        # run myFn several times and average to get a decent idea.\n",
    "        runtime = 0\n",
    "        for t in range(numTrials):\n",
    "            lst = n # generate a random list of length n\n",
    "            start = time.time()\n",
    "            myFn(directory, n, plagThresh, plagTestFile)\n",
    "            end = time.time()\n",
    "            runtime += (end - start) * 1000 # measure in milliseconds\n",
    "        runtime = runtime/numTrials\n",
    "        nValues.append(n)\n",
    "        tValues.append(runtime)\n",
    "\n",
    "    return nValues, tValues\n",
    "\n",
    "\n",
    "start = 1\n",
    "end = 100\n",
    "step = 10\n",
    "nFiles, tTimesofRuntime = tryItABunch( plagDetect, startN = start, endN = end, stepSize=step, numTrials=1)"
   ]
  },
  {
   "cell_type": "code",
   "execution_count": 127,
   "metadata": {},
   "outputs": [
    {
     "data": {
      "text/plain": [
       "Text(0.5, 1.0, 'Naive algorithm theoretical runtime vs. actual runtime')"
      ]
     },
     "execution_count": 127,
     "metadata": {},
     "output_type": "execute_result"
    },
    {
     "data": {
      "image/png": "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\n",
      "text/plain": [
       "<Figure size 432x288 with 1 Axes>"
      ]
     },
     "metadata": {
      "needs_background": "light"
     },
     "output_type": "display_data"
    }
   ],
   "source": [
    "tTimesofRuntime = [x for x in tTimesofRuntime]\n",
    "\n",
    "tValues = [ x for x in range(start,end,step)]\n",
    "nValues = [ x for x in range(start,end,step)]\n",
    "lognVal = [ math.log(x) for x in range(start,end,step)]\n",
    "\n",
    "plt.plot(nFiles, tTimesofRuntime, color=\"red\", label=\"Actual Runtime\")\n",
    "plt.plot(nValues, tValues, color=\"blue\", label=\"Theoretical Runtime\")\n",
    "plt.xlabel(\"n\")\n",
    "plt.ylabel(\"Time(s)\")\n",
    "plt.legend()\n",
    "plt.title(\"Naive algorithm theoretical runtime vs. actual runtime\")"
   ]
  }
 ],
 "metadata": {
  "colab": {
   "collapsed_sections": [],
   "include_colab_link": true,
   "name": "COSC320ThirdMilestone.ipynb",
   "provenance": []
  },
  "kernelspec": {
   "display_name": "Python 3",
   "language": "python",
   "name": "python3"
  },
  "language_info": {
   "codemirror_mode": {
    "name": "ipython",
    "version": 3
   },
   "file_extension": ".py",
   "mimetype": "text/x-python",
   "name": "python",
   "nbconvert_exporter": "python",
   "pygments_lexer": "ipython3",
   "version": "3.8.6"
  }
 },
 "nbformat": 4,
 "nbformat_minor": 4
}
=======
    "kernelspec": {
      "name": "python3",
      "display_name": "Python 3"
    },
    "language_info": {
      "name": "python"
    }
  },
  "cells": [
    {
      "cell_type": "markdown",
      "metadata": {
        "id": "view-in-github",
        "colab_type": "text"
      },
      "source": [
        "<a href=\"https://colab.research.google.com/github/aadiraju/COSC320PlagiarismDetector/blob/main/COSC320ThirdMilestone.ipynb\" target=\"_parent\"><img src=\"https://colab.research.google.com/assets/colab-badge.svg\" alt=\"Open In Colab\"/></a>"
      ]
    },
    {
      "cell_type": "markdown",
      "metadata": {
        "id": "slUTMBmrWj41"
      },
      "source": [
        "# COSC320 Third Milestone"
      ]
    },
    {
      "cell_type": "markdown",
      "metadata": {
        "id": "9dPsAfRyVjEa"
      },
      "source": [
        "\n",
        "## Rabin-Karp Function \n",
        "The following cell defines a function that implements Rabin-Karp on the given pattern and text, and returns a plagiarism percentage from 0% - 100%"
      ]
    },
    {
      "cell_type": "code",
      "metadata": {
        "id": "rB74EmGY_9ow",
        "colab": {
          "base_uri": "https://localhost:8080/"
        },
        "outputId": "8b506988-ca0e-44da-a6b8-c9adeeada8f0"
      },
      "source": [
        "# Following program is the python implementation of \n",
        "# Rabin Karp Algorithm given in CLRS book \n",
        "  \n",
        "# pat  -> pattern \n",
        "# txt  -> text \n",
        "# q    -> A prime number \n",
        "  \n",
        "def rabinKarpSearch(pat, txt): \n",
        "    q = 101 # A prime number \n",
        "    M = len(pat) \n",
        "    N = len(txt) \n",
        "    i = 0\n",
        "    j = 0\n",
        "    p = 0    # hash value for pattern \n",
        "    t = 0    # hash value for txt \n",
        "    h = 1\n",
        "    # d is the number of characters in the input alphabet \n",
        "    d = 256\n",
        "  \n",
        "    # The value of h would be \"pow(d, M-1)% q\" \n",
        "    for i in range(M-1): \n",
        "        h = (h * d)% q \n",
        "  \n",
        "    # Calculate the hash value of pattern and first window \n",
        "    # of text \n",
        "    for i in range(M): \n",
        "        p = (d * p + ord(pat[i]))% q \n",
        "        t = (d * t + ord(txt[i]))% q \n",
        "  \n",
        "    # Slide the pattern over text one by one \n",
        "    for i in range(N-M + 1): \n",
        "        # Check the hash values of current window of text and \n",
        "        # pattern if the hash values match then only check \n",
        "        # for characters on by one \n",
        "        if p == t: \n",
        "            # Check for characters one by one \n",
        "            for j in range(M): \n",
        "                if txt[i + j] != pat[j]: \n",
        "                    break\n",
        "  \n",
        "            j+= 1\n",
        "            # if p == t and pat[0...M-1] = txt[i, i + 1, ...i + M-1] \n",
        "            if j == M: \n",
        "                return M #get length of pattern that has a match\n",
        "  \n",
        "        # Calculate hash value for next window of text: Remove \n",
        "        # leading digit, add trailing digit \n",
        "        if i < N-M: \n",
        "            t = (d*(t-ord(txt[i])*h) + ord(txt[i + M]))% q \n",
        "  \n",
        "            # We might get negative values of t, converting it to \n",
        "            # positive \n",
        "            if t < 0: \n",
        "                t = t + q\n",
        "    return 0\n",
        "\n",
        "def rabinKarpFileMatch(file, cFile):\n",
        "  corpusFileSize = len(cFile)\n",
        "  totalFoundChar = 0\n",
        "  for line in file:\n",
        "    totalFoundChar += rabinKarpSearch(line,cFile)\n",
        "  return float(totalFoundChar/corpusFileSize)*100 # value from 0-100 that represents the percentage of matches found between the two documents \n",
        "\n",
        "# Driver program to test the above function \n",
        "txt = \"COSC320 is a very fun class and I would take it again if I could\"\n",
        "pat = [\"very fun class \",\"aksdjfhaskjl \",\"take it again \"]\n",
        "\n",
        "print(\"{:.2f}% similarity\".format(rabinKarpFileMatch(pat, txt))) "
      ],
      "execution_count": null,
      "outputs": [
        {
          "output_type": "stream",
          "text": [
            "45.31% similarity\n"
          ],
          "name": "stdout"
        }
      ]
    },
    {
      "cell_type": "markdown",
      "metadata": {
        "id": "nOxpWdjgWWL2"
      },
      "source": [
        "## KMP Function \n",
        "The following cell defines a function that implements KMP on the given pattern and text, and returns a plagiarism percentage from 0% - 100%"
      ]
    },
    {
      "cell_type": "code",
      "metadata": {
        "id": "ZusYoWoUBzNQ",
        "colab": {
          "base_uri": "https://localhost:8080/"
        },
        "outputId": "f728c51f-fd19-4251-a4e9-28f42567be38"
      },
      "source": [
        "def kmpHelper(file,cFile):    \n",
        "    totalFoundChar = 0\n",
        "    for i in file:\n",
        "      totalFoundChar += KMPSearch(i,cFile)\n",
        "    \n",
        "    corpusFileSize = len(cFile)\n",
        "    return float(totalFoundChar/corpusFileSize)*100\n",
        "    \n",
        "    # for each string in data, run a for loop to check against each string in the data2 string, so that can be done, and then to return a \n",
        "\n",
        "\n",
        "def KMPSearch(pat, txt): \n",
        "    M = len(pat) \n",
        "    N = len(txt) \n",
        "    lps = [0]*M \n",
        "    j = 0\n",
        "    computeLPSArray(pat, M, lps) \n",
        "    i = 0 \n",
        "    while i < N: \n",
        "        if pat[j] == txt[i]: \n",
        "            i += 1\n",
        "            j += 1\n",
        "        if j == M: \n",
        "            return M\n",
        "            j = lps[j-1] \n",
        "\n",
        "        elif i < N and pat[j] != txt[i]: \n",
        "            if j != 0: \n",
        "                j = lps[j-1] \n",
        "            else: \n",
        "                i += 1\n",
        "    return 0\n",
        "  \n",
        "def computeLPSArray(pat, M, lps): \n",
        "    len = 0 # length of the previous longest prefix suffix \n",
        "  \n",
        "    lps[0] # lps[0] is always 0 \n",
        "    i = 1\n",
        "  \n",
        "    # the loop calculates lps[i] for i = 1 to M-1 \n",
        "    while i < M: \n",
        "        if pat[i]== pat[len]: \n",
        "            len += 1\n",
        "            lps[i] = len\n",
        "            i += 1\n",
        "        else: \n",
        "            # This is tricky. Consider the example. \n",
        "            # AAACAAAA and i = 7. The idea is similar  \n",
        "            # to search step. \n",
        "            if len != 0: \n",
        "                len = lps[len-1] \n",
        "  \n",
        "                # Also, note that we do not increment i here \n",
        "            else: \n",
        "                lps[i] = 0\n",
        "                i += 1\n",
        "  \n",
        "txt = \"ABABDABACDABABCABABABCABCBABCABCBACBACBACBACBABCBACBABD\"\n",
        "pat = [\"CAB\",\"BAB\"]\n",
        "print(\"{:.2f}% similarity\".format(kmpHelper(pat, txt))) \n",
        "\n"
      ],
      "execution_count": null,
      "outputs": [
        {
          "output_type": "stream",
          "text": [
            "10.91% similarity\n"
          ],
          "name": "stdout"
        }
      ]
    },
    {
      "cell_type": "markdown",
      "metadata": {
        "id": "kg5ZYoc4Wpyd"
      },
      "source": [
        "## LCSS Function \n",
        "The following cell defines a function that implements LCSS on the given pattern and text, and returns a plagiarism percentage from 0% - 100%"
      ]
    },
    {
      "cell_type": "code",
      "metadata": {
        "id": "PCh9q7E6UV9O",
        "colab": {
          "base_uri": "https://localhost:8080/"
        },
        "outputId": "ce50a688-e8f1-4d0b-d3d5-87f7e3e672c5"
      },
      "source": [
        "def lcs(file, cFile): \n",
        "    # find the length of the strings \n",
        "    m = len(file) \n",
        "    n = len(cFile) \n",
        "  \n",
        "    # declaring the array for storing the dp values \n",
        "    L = [[None]*(n + 1) for i in range(m + 1)] \n",
        "  \n",
        "    \"\"\"Following steps build L[m + 1][n + 1] in bottom up fashion \n",
        "    Note: L[i][j] contains length of LCS of file[0..i-1] \n",
        "    and cFile[0..j-1]\"\"\"\n",
        "    for i in range(m + 1): \n",
        "        for j in range(n + 1): \n",
        "            if i == 0 or j == 0 : \n",
        "                L[i][j] = 0\n",
        "            elif file[i-1] == cFile[j-1]: \n",
        "                L[i][j] = L[i-1][j-1]+1\n",
        "            else: \n",
        "                L[i][j] = max(L[i-1][j], L[i][j-1]) \n",
        "  \n",
        "    # L[m][n] contains the length of LCS of file[0..n-1] & cFile[0..m-1] \n",
        "    return L[m][n] \n",
        "# end of function lcs \n",
        "def lcsHelper(file,cFile):\n",
        "  totalFoundChar = 0\n",
        "  for i in file:\n",
        "    totalFoundChar += lcs(i,cFile)  \n",
        "  corpusFileSize = len(cFile)\n",
        "  return float(totalFoundChar/corpusFileSize)*100\n",
        "  \n",
        "# Driver program to test the above function \n",
        "file = [\"AGG\"]\n",
        "cFile = \"GXTXAYB\"\n",
        "print(\"Similarity Percentage is {:.2f}%\".format(lcsHelper(file, cFile))) "
      ],
      "execution_count": null,
      "outputs": [
        {
          "output_type": "stream",
          "text": [
            "Similarity Percentage is 14.29%\n"
          ],
          "name": "stdout"
        }
      ]
    },
    {
      "cell_type": "markdown",
      "metadata": {
        "id": "z_bJe5gjXY6f"
      },
      "source": [
        "## Main Driver Function\n",
        "The following function will take the actual input file and compare it against each file in the corpus and return a plagiarism percentage per file."
      ]
    },
    {
      "cell_type": "code",
      "metadata": {
        "id": "ZprO9t2h33p-"
      },
      "source": [
        "def plagDetect(directory, dirSize, plagThresh, plagTestFile):\n",
        "    '''\n",
        "    Function that will return a set of filenames from which plagTestFile might have plagiarized from.\n",
        "\n",
        "    Parameters:\n",
        "    directory : str - path to directory where data files are located\n",
        "    dirSize : int - number of files other than plagTestFile that the algorithm will search from\n",
        "    plagThresh : float - a floating-point number between 0 - 1, that defines the percentage threshold to classify a document as potentially plagiarized\n",
        "    plagTestFile : str - name of the plagiarism test file with extension. No directory. Eg: \"plagTestFile.txt\"\n",
        "\n",
        "    Returns:\n",
        "    potentialPlagDocSet : list(str) - list of filenames in directory from which plagTestFile has plagiarized from.\n",
        "\n",
        "    '''\n",
        "    corpus = []\n",
        "    corpusNames = []\n",
        "    plagF = \"\"\n",
        "    counter = 0\n",
        "\n",
        "    for file in os.listdir(directory):\n",
        "         filename = os.fsdecode(file)\n",
        "         if filename.endswith(\".txt\") and filename != plagTestFile and counter < dirSize: \n",
        "             #Take in each corpus file as a big string where newlines are replaced by spaces\n",
        "             cf = open(os.path.join(directory,file), \"r\", encoding=\"utf-8\")\n",
        "             content = cf.read()\n",
        "             content_list = content.replace('\\n',' ')\n",
        "             corpus.append(content_list)\n",
        "             corpusNames.append(filename)\n",
        "             counter+=1\n",
        "             cf.close()  \n",
        "         if filename == plagTestFile:\n",
        "            # For the plagirarism file, split up by line, in a list.\n",
        "            with open(os.path.join(directory,file),'r', encoding=\"utf-8\") as plagFile:\n",
        "                plagF = [line.rstrip('\\n') for line in plagFile]\n",
        "    \n",
        "    potentialPlagDocSet = []\n",
        "\n",
        "    for i in range(len(corpus)):\n",
        "        cFile = corpus[i]\n",
        "        cFileName = corpusNames[i]\n",
        "        simil = 0.5 * kmpHelper(plagF, cFile) + 0.2 * rabinKarpFileMatch(plagF, cFile) + 0.3 * lcsHelper(plagF, cFile)\n",
        "        if simil > plagThresh:\n",
        "            potentialPlagDocSet.append(cFileName)\n",
        "            \n",
        "    return potentialPlagDocSet"
      ],
      "execution_count": 7,
      "outputs": []
    },
    {
      "cell_type": "markdown",
      "metadata": {
        "id": "icXts3C45nhW"
      },
      "source": [
        "## Runtime Plotting\n",
        "The following code blocks will run our function a bunch of times with varying corpus sizes, and record and plot the run time using `matplotlib`"
      ]
    },
    {
      "cell_type": "code",
      "metadata": {
        "id": "PyRZRWselwwG"
      },
      "source": [
        "import matplotlib.pyplot as plt\n",
        "import time\n",
        "from random import choice\n",
        "import os\n",
        "\n",
        "def tryItABunch(myFn, startN=1, endN=100, stepSize=1, numTrials=20):\n",
        "    nValues = []\n",
        "    tValues = []\n",
        "    directory = \"g17_corpusfinal/\"\n",
        "    plagThresh = 0.1\n",
        "    plagTestFile = \"plagarism_test_file.txt\"\n",
        "    for n in range(startN, endN, stepSize):\n",
        "        # run myFn several times and average to get a decent idea.\n",
        "        runtime = 0\n",
        "        for t in range(numTrials):\n",
        "            lst = n # generate a random list of length n\n",
        "            start = time.time()\n",
        "            myFn(directory, n, plagThresh, plagTestFile)\n",
        "            end = time.time()\n",
        "            runtime += (end - start) * 1000 # measure in milliseconds\n",
        "        runtime = runtime/numTrials\n",
        "        nValues.append(n)\n",
        "        tValues.append(runtime)\n",
        "\n",
        "    return nValues, tValues\n",
        "\n",
        "\n",
        "start = 1\n",
        "end = 100\n",
        "step = 10\n",
        "nFiles, tTimesofRuntime = tryItABunch( plagDetect, startN = start, endN = end, stepSize=step, numTrials=1)\n",
        "\n",
        "\n"
      ],
      "execution_count": null,
      "outputs": []
    },
    {
      "cell_type": "code",
      "metadata": {
        "id": "3znP0uHS-Vfy"
      },
      "source": [
        "tTimesofRuntime = [x/1000 for x in tTimesofRuntime]\n",
        "\n",
        "tValues = [ x for x in range(start,end,step)]\n",
        "nValues = [ x for x in range(start,end,step)]\n",
        "\n",
        "plt.plot(nFiles, tTimesofRuntime, color=\"red\", label=\"Actual Runtime\")\n",
        "plt.plot(nValues, tValues, color=\"blue\", label=\"Theoretical Runtime\")\n",
        "plt.xlabel(\"n\")\n",
        "plt.ylabel(\"Time(s)\")\n",
        "plt.legend()\n",
        "plt.title(\"Naive algorithm theoretical runtime vs. actual runtime\")"
      ],
      "execution_count": null,
      "outputs": []
    }
  ]
}
>>>>>>> f6342bf01be1edd9e1cca667df0ac86ba34c4740
